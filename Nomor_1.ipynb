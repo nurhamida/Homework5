{
  "nbformat": 4,
  "nbformat_minor": 0,
  "metadata": {
    "colab": {
      "provenance": [],
      "authorship_tag": "ABX9TyOw5LfeQHLqFEiaJgSQonHH",
      "include_colab_link": true
    },
    "kernelspec": {
      "name": "python3",
      "display_name": "Python 3"
    },
    "language_info": {
      "name": "python"
    }
  },
  "cells": [
    {
      "cell_type": "markdown",
      "metadata": {
        "id": "view-in-github",
        "colab_type": "text"
      },
      "source": [
        "<a href=\"https://colab.research.google.com/github/nurhamida/Homework5/blob/main/Nomor_1.ipynb\" target=\"_parent\"><img src=\"https://colab.research.google.com/assets/colab-badge.svg\" alt=\"Open In Colab\"/></a>"
      ]
    },
    {
      "cell_type": "code",
      "source": [
        "import numpy as np"
      ],
      "metadata": {
        "id": "XSIy2RjiNene"
      },
      "execution_count": 1,
      "outputs": []
    },
    {
      "cell_type": "code",
      "source": [
        "# Buat NumPy array dari 5 bilangan ganjil pertama (dimulai dari 1)\n",
        "array_a = np.array([1, 3, 5, 7, 9])"
      ],
      "metadata": {
        "id": "bHa_pf4qJwT4"
      },
      "execution_count": 2,
      "outputs": []
    },
    {
      "cell_type": "code",
      "source": [
        "# a. Kali-kan array tersebut dengan 10\n",
        "array_b = array_a * 10"
      ],
      "metadata": {
        "id": "i260TpAsJ_pL"
      },
      "execution_count": 3,
      "outputs": []
    },
    {
      "cell_type": "code",
      "source": [
        "# b. Bagi-kan array (hasil dari bagian a) dengan 3\n",
        "array_c = array_b / 3"
      ],
      "metadata": {
        "id": "aN9JEEk5KGeg"
      },
      "execution_count": 4,
      "outputs": []
    },
    {
      "cell_type": "code",
      "source": [
        "# c. Kali-kan array (hasil dari bagian b) dengan NumPy array baru: [-45, 43, 3, 56, 5]\n",
        "array_d = array_c * np.array([-45, 43, 3, 56, 5])"
      ],
      "metadata": {
        "id": "_cQFxOixKRIh"
      },
      "execution_count": 5,
      "outputs": []
    },
    {
      "cell_type": "code",
      "source": [
        "# d. Carilah pada index ke-berapa nilai tertinggi dan terendah dari array (hasil dari bagian c)\n",
        "index_tertinggi = np.argmax(array_d)\n",
        "index_terendah = np.argmin(array_d)"
      ],
      "metadata": {
        "id": "B7XHQlnGKTY2"
      },
      "execution_count": 6,
      "outputs": []
    },
    {
      "cell_type": "code",
      "source": [
        "# Cetak hasil\n",
        "print(\"Array A:\", array_a)\n",
        "print(\"Array B:\", array_b)\n",
        "print(\"Array C:\", array_c)\n",
        "print(\"Array D:\", array_d)\n",
        "print(\"Index nilai tertinggi:\", index_tertinggi)\n",
        "print(\"Index nilai terendah:\", index_terendah)"
      ],
      "metadata": {
        "colab": {
          "base_uri": "https://localhost:8080/"
        },
        "id": "bjiLFKY9KWC8",
        "outputId": "f1e52d3e-203f-4d11-f3b7-b9a8d3407d81"
      },
      "execution_count": 7,
      "outputs": [
        {
          "output_type": "stream",
          "name": "stdout",
          "text": [
            "Array A: [1 3 5 7 9]\n",
            "Array B: [10 30 50 70 90]\n",
            "Array C: [ 3.33333333 10.         16.66666667 23.33333333 30.        ]\n",
            "Array D: [-150.          430.           50.         1306.66666667  150.        ]\n",
            "Index nilai tertinggi: 3\n",
            "Index nilai terendah: 0\n"
          ]
        }
      ]
    }
  ]
}