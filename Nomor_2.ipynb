{
  "nbformat": 4,
  "nbformat_minor": 0,
  "metadata": {
    "colab": {
      "provenance": [],
      "authorship_tag": "ABX9TyMGxD2bstewf7GEwzX8V6+Q",
      "include_colab_link": true
    },
    "kernelspec": {
      "name": "python3",
      "display_name": "Python 3"
    },
    "language_info": {
      "name": "python"
    }
  },
  "cells": [
    {
      "cell_type": "markdown",
      "metadata": {
        "id": "view-in-github",
        "colab_type": "text"
      },
      "source": [
        "<a href=\"https://colab.research.google.com/github/nurhamida/Homework5/blob/main/Nomor_2.ipynb\" target=\"_parent\"><img src=\"https://colab.research.google.com/assets/colab-badge.svg\" alt=\"Open In Colab\"/></a>"
      ]
    },
    {
      "cell_type": "markdown",
      "source": [
        "Pemahaman Data:"
      ],
      "metadata": {
        "id": "G1jyVQ98ndJm"
      }
    },
    {
      "cell_type": "code",
      "source": [
        "pip install pandas"
      ],
      "metadata": {
        "colab": {
          "base_uri": "https://localhost:8080/"
        },
        "id": "VhMtM3mklWRz",
        "outputId": "6d34111a-b738-47fd-ec53-0894c5d61bac"
      },
      "execution_count": 1,
      "outputs": [
        {
          "output_type": "stream",
          "name": "stdout",
          "text": [
            "Requirement already satisfied: pandas in /usr/local/lib/python3.10/dist-packages (1.5.3)\n",
            "Requirement already satisfied: python-dateutil>=2.8.1 in /usr/local/lib/python3.10/dist-packages (from pandas) (2.8.2)\n",
            "Requirement already satisfied: pytz>=2020.1 in /usr/local/lib/python3.10/dist-packages (from pandas) (2023.3.post1)\n",
            "Requirement already satisfied: numpy>=1.21.0 in /usr/local/lib/python3.10/dist-packages (from pandas) (1.23.5)\n",
            "Requirement already satisfied: six>=1.5 in /usr/local/lib/python3.10/dist-packages (from python-dateutil>=2.8.1->pandas) (1.16.0)\n"
          ]
        }
      ]
    },
    {
      "cell_type": "code",
      "source": [
        "# Import libraries and alias for easy reading\n",
        "import pandas as pd"
      ],
      "metadata": {
        "id": "vEWZkhdudML4"
      },
      "execution_count": 2,
      "outputs": []
    },
    {
      "cell_type": "code",
      "source": [
        "# Read in data in CSV format\n",
        "superstore = pd.read_csv('D:/IT Perbankan TSA DTS Kominfo/W5. Data Science & Machine Learning/superstore.csv')"
      ],
      "metadata": {
        "id": "MnvMIj79oLyU"
      },
      "execution_count": null,
      "outputs": []
    },
    {
      "cell_type": "code",
      "source": [
        "# Get descriptive statistics summary\n",
        "superstore.describe(include = \"all\")"
      ],
      "metadata": {
        "id": "AUgCiZwYnnve"
      },
      "execution_count": null,
      "outputs": []
    },
    {
      "cell_type": "markdown",
      "source": [
        "Preprocessing Data:"
      ],
      "metadata": {
        "id": "YnO4rzBmoeqr"
      }
    },
    {
      "cell_type": "code",
      "source": [
        "# Temukan jumlah nilai null untuk semua kolom\n",
        " superstore.isnull().sum()"
      ],
      "metadata": {
        "id": "dV3KHJ43ogpc"
      },
      "execution_count": null,
      "outputs": []
    }
  ]
}